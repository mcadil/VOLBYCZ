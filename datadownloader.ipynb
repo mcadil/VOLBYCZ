{
 "cells": [
  {
   "cell_type": "code",
   "execution_count": 1,
   "id": "32dfe155-1d41-4cb2-adcf-cb0d1b7d6abf",
   "metadata": {},
   "outputs": [],
   "source": [
    "import requests\n",
    "import zipfile\n",
    "import time\n",
    "import os\n",
    "import unicodedata\n",
    "from urllib.parse import urljoin\n",
    "from io import BytesIO\n",
    "from bs4 import BeautifulSoup\n",
    "import xml.etree.ElementTree as ET"
   ]
  },
  {
   "cell_type": "code",
   "execution_count": 2,
   "id": "3318f609-fbb3-4393-9763-2b0f973cd92d",
   "metadata": {},
   "outputs": [],
   "source": [
    "sslverify = True  # nastavit na False u serveru, ktere hlasi chybu ssl\n",
    "urlRoot = \"https://volby.cz/opendata/\"\n",
    "opendatafile = \"opendata.htm\"\n",
    "datadir = \"data\"\n",
    "opendataUrl = urljoin(urlRoot,opendatafile)\n"
   ]
  },
  {
   "cell_type": "code",
   "execution_count": 3,
   "id": "64bc0807-7984-42fd-b3e9-39143a7cf140",
   "metadata": {},
   "outputs": [],
   "source": [
    "response = requests.get(opendataUrl)"
   ]
  },
  {
   "cell_type": "code",
   "execution_count": 4,
   "id": "366dface-af58-49f6-9a68-b247d3ba2c53",
   "metadata": {
    "tags": []
   },
   "outputs": [],
   "source": [
    "def getUrlsVolby(soup):\n",
    "    volbyList = []\n",
    "    for volby in soup.table.find_all(\"tr\"):\n",
    "        volbyData = volby.find(\"td\").text\n",
    "        volbyData = unicodedata.normalize('NFKD',volbyData)\n",
    "        #print(volbyData)\n",
    "        #print(volba)\n",
    "        volbyUrls = volby.find_all(\"a\")\n",
    "        for i in volbyUrls:\n",
    "            volba = []\n",
    "            volba.append(volbyData)\n",
    "            url = i.attrs[\"href\"]\n",
    "            # print(url)\n",
    "            volbyId, volbyFileurl = url.split(\"/\")\n",
    "            volba.append(volbyId)\n",
    "            volba.append(volbyFileurl)\n",
    "            volbyList.append(volba)\n",
    "            # print(volba)\n",
    "            # print()\n",
    "    return(volbyList)"
   ]
  },
  {
   "cell_type": "code",
   "execution_count": 5,
   "id": "073e1d1b-563b-49d6-9319-ee6134d22f32",
   "metadata": {
    "tags": []
   },
   "outputs": [],
   "source": [
    "if response.status_code == 200:\n",
    "    HomeSoup = BeautifulSoup(response.content, 'html.parser')\n",
    "    volbyUrls = getUrlsVolby(HomeSoup)\n",
    "else:\n",
    "    print(\"chyba zpracování\", opendataUrl)"
   ]
  },
  {
   "cell_type": "code",
   "execution_count": 6,
   "id": "dad69e6d-521d-488f-b711-ceb1eb05cf13",
   "metadata": {},
   "outputs": [],
   "source": [
    "def zpracujOdata(url):\n",
    "    odkazy = []\n",
    "    response = requests.get(url)\n",
    "    soup = BeautifulSoup(response.content, 'html.parser')\n",
    "    for i in soup.find_all(\"li\"):\n",
    "        for a in i.find_all(\"a\"):\n",
    "            odkaz = a.attrs[\"href\"]\n",
    "            if \"http\" not in odkaz:\n",
    "                if \"_opendata.htm\" in odkaz:\n",
    "                    odkaz = odkaz.replace(\"..\",\"/opendata\")\n",
    "                    odkaz = urljoin(\"https://volby.cz\", odkaz)\n",
    "                    odkazy.append(odkaz)\n",
    "    return(odkazy)\n",
    "\n",
    "\n",
    "volbaOpendataHome = []\n",
    "for i in volbyUrls:\n",
    "    volbaUrl = urlRoot + i[1] + \"/\" + i[2]\n",
    "    time.sleep(0.3)\n",
    "    if \"odata\" in volbaUrl or \"_seznam\" in volbaUrl:\n",
    "        odkazy = zpracujOdata(volbaUrl)\n",
    "        for odkaz in odkazy:\n",
    "            volbaOpendataHome.append(odkaz)\n",
    "    else:\n",
    "        volbaOpendataHome.append(volbaUrl)"
   ]
  },
  {
   "cell_type": "code",
   "execution_count": 8,
   "id": "9460cecf-835c-4128-a452-8a3af7c7f9b3",
   "metadata": {},
   "outputs": [],
   "source": [
    "def getVolbySoup(home, sleeptime):\n",
    "    responses = {}\n",
    "    for i in home:\n",
    "        volby = i.split(\"/\")[4]\n",
    "        responses[volby] = requests.get(i)\n",
    "        time.sleep(sleeptime)\n",
    "    return (responses)"
   ]
  },
  {
   "cell_type": "code",
   "execution_count": 11,
   "id": "b084f837-02c8-43ce-ac83-5461f72be380",
   "metadata": {
    "tags": []
   },
   "outputs": [],
   "source": [
    "volbySoupsDict = getVolbySoup(volbaOpendataHome, 2)"
   ]
  },
  {
   "cell_type": "code",
   "execution_count": 13,
   "id": "ae8e497c-c195-49ed-a6dc-6ce6773c06fa",
   "metadata": {
    "tags": []
   },
   "outputs": [],
   "source": [
    "def getDavky(davkydir, url):\n",
    "    posledni_davka = requests.get(url)\n",
    "    print(\"getDavky\", davkydir, url)\n",
    "    root = ET.fromstring(posledni_davka.text)\n",
    "    davka = root[0].attrib\n",
    "    if 'CHYBA' in (root[0].tag):\n",
    "        print(davkydir, root[0].attrib)\n",
    "        return ()\n",
    "    davkyLimit = int(davka.get(\"PORADI_DAVKY\")) + 1\n",
    "    print(davkydir, \"\\t\", davkyLimit)\n",
    "    if not os.path.exists(davkydir):\n",
    "        os.mkdir(davkydir)\n",
    "        for i in range(1, davkyLimit):\n",
    "            response = requests.get(url, verify=sslverify)\n",
    "            time.sleep(1)\n",
    "            print(\"davka\", i, response.status_code, \"\\r\")\n",
    "            time.sleep(0)  # workaround pro chybu v jupyteru - netiskne se \\r\n",
    "\n",
    "            if i < 10:\n",
    "                davkaurl = os.path.join(davkydir, \"davka_0\"+str(i)+\".xml\")\n",
    "            else:\n",
    "                davkaurl = os.path.join(davkydir, \"davka_\"+str(i)+\".xml\")\n",
    "            with open(davkaurl, \"wb\") as file:\n",
    "                file.write(response.content)\n",
    "\n",
    "\n",
    "def getZipDavky(volbadir, volbyDict):\n",
    "    for volba, response in volbyDict.items():\n",
    "        print(volba)\n",
    "        volba = os.path.join(volbadir, volba)\n",
    "        if not os.path.exists(volba):\n",
    "            os.mkdir(volba)\n",
    "        url = response.url\n",
    "        soup = BeautifulSoup(response.content, 'html.parser')\n",
    "        for a in soup.find_all('a'):\n",
    "            odkaz = a['href']\n",
    "            if '.zip' in odkaz:\n",
    "                continue  # docasne zablokovat download zip\n",
    "                fileUrl = urljoin(url, odkaz)\n",
    "                dataType = fileUrl.split('/')[4]\n",
    "                path = os.path.join(volba,dataType)\n",
    "                r = requests.get(fileUrl)\n",
    "                if r.status_code == 200:\n",
    "                    z = zipfile.ZipFile(BytesIO(r.content))\n",
    "                    z.extractall(path)\n",
    "                time.sleep(1)\n",
    "            elif 'davka=' in odkaz:\n",
    "                fileUrl = urljoin(url, odkaz)\n",
    "                print(\"fileUrl\", fileUrl)\n",
    "                dataType = fileUrl.split('/')[4]\n",
    "                if ('se' in volba) or ('prez' in volba):\n",
    "                    for i in range(1,3):\n",
    "                        if 'kolo=' in fileUrl:\n",
    "                            davkaUrl = fileUrl.replace(\"kolo=\",\"kolo=\"+str(i))\n",
    "                        else:\n",
    "                            davkaUrl = fileUrl+\"&kolo=\"+str(i)\n",
    "                        path = os.path.join(volba, \"davky_\" + str(i))\n",
    "                        getDavky(path, davkaUrl)\n",
    "                else:\n",
    "                    #print(fileUrl)\n",
    "                    path = os.path.join(volba, \"davky_1\")\n",
    "                    getDavky(path, davkaUrl)\n",
    "            else:\n",
    "                continue\n",
    "        time.sleep(0.1)"
   ]
  },
  {
   "cell_type": "code",
   "execution_count": null,
   "id": "17bab2fa-8c88-4e30-a260-5682d614e019",
   "metadata": {
    "tags": []
   },
   "outputs": [],
   "source": [
    "if not os.path.exists(datadir):\n",
    "    os.mkdir(datadir)\n",
    "\n",
    "getZipDavky(datadir, volbySoupsDict)"
   ]
  }
 ],
 "metadata": {
  "kernelspec": {
   "display_name": "volby:Python",
   "language": "python",
   "name": "conda-env-volby-py"
  },
  "language_info": {
   "codemirror_mode": {
    "name": "ipython",
    "version": 3
   },
   "file_extension": ".py",
   "mimetype": "text/x-python",
   "name": "python",
   "nbconvert_exporter": "python",
   "pygments_lexer": "ipython3",
   "version": "3.10.6"
  }
 },
 "nbformat": 4,
 "nbformat_minor": 5
}
