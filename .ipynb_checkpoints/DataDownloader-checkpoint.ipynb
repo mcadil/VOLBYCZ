{
 "cells": [
  {
   "cell_type": "code",
   "execution_count": 66,
   "id": "32dfe155-1d41-4cb2-adcf-cb0d1b7d6abf",
   "metadata": {},
   "outputs": [],
   "source": [
    "import requests\n",
    "import zipfile\n",
    "import time\n",
    "import os\n",
    "import unicodedata\n",
    "from urllib.parse import urljoin\n",
    "from io import BytesIO\n",
    "from bs4 import BeautifulSoup\n",
    "import xml.etree.ElementTree as ET"
   ]
  },
  {
   "cell_type": "code",
   "execution_count": 70,
   "id": "3318f609-fbb3-4393-9763-2b0f973cd92d",
   "metadata": {},
   "outputs": [],
   "source": [
    "sslverify = True  # nastavit na False u serveru, ktere hlasi chybu ssl\n",
    "urlRoot = \"https://volby.cz/opendata/\"\n",
    "opendatafile = \"opendata.htm\"\n",
    "datadir = \"data\""
   ]
  },
  {
   "cell_type": "code",
   "execution_count": 56,
   "id": "64bc0807-7984-42fd-b3e9-39143a7cf140",
   "metadata": {},
   "outputs": [
    {
     "name": "stdout",
     "output_type": "stream",
     "text": [
      "https://volby.cz/opendata/opendata.htm\n"
     ]
    }
   ],
   "source": [
    "opendataUrl = urljoin(urlRoot,opendatafile)\n",
    "response = requests.get(opendataUrl)"
   ]
  },
  {
   "cell_type": "code",
   "execution_count": 4,
   "id": "366dface-af58-49f6-9a68-b247d3ba2c53",
   "metadata": {
    "tags": []
   },
   "outputs": [],
   "source": [
    "def getUrlsVolby(soup):\n",
    "    volbyList = []\n",
    "    for volby in soup.table.find_all(\"tr\"):\n",
    "        volbyData = volby.find(\"td\").text\n",
    "        volbyData = unicodedata.normalize('NFKD',volbyData)\n",
    "        #print(volbyData)\n",
    "        #print(volba)\n",
    "        volbyUrls = volby.find_all(\"a\")\n",
    "        for i in volbyUrls:\n",
    "            volba = []\n",
    "            volba.append(volbyData)\n",
    "            url = i.attrs[\"href\"]\n",
    "            # print(url)\n",
    "            volbyId, volbyFileurl = url.split(\"/\")\n",
    "            volba.append(volbyId)\n",
    "            volba.append(volbyFileurl)\n",
    "            volbyList.append(volba)\n",
    "            # print(volba)\n",
    "            # print()\n",
    "    return(volbyList)"
   ]
  },
  {
   "cell_type": "code",
   "execution_count": 5,
   "id": "073e1d1b-563b-49d6-9319-ee6134d22f32",
   "metadata": {
    "tags": []
   },
   "outputs": [],
   "source": [
    "if response.status_code == 200:\n",
    "    HomeSoup = BeautifulSoup(response.content, 'html.parser')\n",
    "    volbyUrls = getUrlsVolby(HomeSoup)\n",
    "else:\n",
    "    print(\"chyba zpracování\", opendataUrl)"
   ]
  },
  {
   "cell_type": "code",
   "execution_count": 7,
   "id": "dad69e6d-521d-488f-b711-ceb1eb05cf13",
   "metadata": {},
   "outputs": [],
   "source": [
    "def zpracujOdata(url):\n",
    "    odkazy = []\n",
    "    response = requests.get(url)\n",
    "    soup = BeautifulSoup(response.content, 'html.parser')\n",
    "    for i in soup.find_all(\"li\"):\n",
    "        for a in i.find_all(\"a\"):\n",
    "            odkaz = a.attrs[\"href\"]\n",
    "            if \"http\" not in odkaz:\n",
    "                if \"_opendata.htm\" in odkaz:\n",
    "                    odkaz = odkaz.replace(\"..\",\"/opendata\")\n",
    "                    odkaz = urljoin(\"https://volby.cz\", odkaz)\n",
    "                    odkazy.append(odkaz)\n",
    "    return(odkazy)\n",
    "\n",
    "\n",
    "volbaOpendataHome = []\n",
    "for i in volbyUrls:\n",
    "    volbaUrl = urlRoot + i[1] + \"/\" + i[2]\n",
    "    time.sleep(0.3)\n",
    "    if \"odata\" in volbaUrl or \"_seznam\" in volbaUrl:\n",
    "        odkazy = zpracujOdata(volbaUrl)\n",
    "        for odkaz in odkazy:\n",
    "            volbaOpendataHome.append(odkaz)\n",
    "    else:\n",
    "        volbaOpendataHome.append(volbaUrl)"
   ]
  },
  {
   "cell_type": "code",
   "execution_count": null,
   "id": "9705e701-c758-4aae-8c80-b332ed89c385",
   "metadata": {},
   "outputs": [],
   "source": [
    "sorted(volbaOpendataHome, reverse=True)"
   ]
  },
  {
   "cell_type": "code",
   "execution_count": 57,
   "id": "9460cecf-835c-4128-a452-8a3af7c7f9b3",
   "metadata": {},
   "outputs": [],
   "source": [
    "def getVolbySoup(home, sleeptime):\n",
    "    responses = {}\n",
    "    for i in home:\n",
    "        volby = i.split(\"/\")[4]\n",
    "        responses[volby] = requests.get(i)\n",
    "        time.sleep(sleeptime)\n",
    "    return (responses)\n",
    "\n",
    "\n",
    "volbySoupsDict = getVolbySoup(volbaOpendataHome, 2)"
   ]
  },
  {
   "cell_type": "code",
   "execution_count": null,
   "id": "b084f837-02c8-43ce-ac83-5461f72be380",
   "metadata": {
    "tags": []
   },
   "outputs": [],
   "source": [
    "volbySoupsDict"
   ]
  },
  {
   "cell_type": "code",
   "execution_count": 97,
   "id": "ae8e497c-c195-49ed-a6dc-6ce6773c06fa",
   "metadata": {
    "tags": []
   },
   "outputs": [
    {
     "name": "stdout",
     "output_type": "stream",
     "text": [
      "odkaz /pls/prez2018/vysledky_okrsky?davka=\n",
      "fileUrl https://www.volby.cz/pls/prez2018/vysledky_okrsky?davka=\n"
     ]
    },
    {
     "ename": "ParseError",
     "evalue": "syntax error: line 1, column 49 (<string>)",
     "output_type": "error",
     "traceback": [
      "Traceback \u001b[0;36m(most recent call last)\u001b[0m:\n",
      "\u001b[0m  File \u001b[1;32m~/.conda/envs/volbycz/lib/python3.11/site-packages/IPython/core/interactiveshell.py:3433\u001b[0m in \u001b[1;35mrun_code\u001b[0m\n    exec(code_obj, self.user_global_ns, self.user_ns)\u001b[0m\n",
      "\u001b[0m  Cell \u001b[1;32mIn [97], line 63\u001b[0m\n    getExtractZipDavky(datadir, volbySoupsDict)\u001b[0m\n",
      "\u001b[0m  Cell \u001b[1;32mIn [97], line 51\u001b[0m in \u001b[1;35mgetExtractZipDavky\u001b[0m\n    getDavky(path, fileUrl)\u001b[0m\n",
      "\u001b[0m  Cell \u001b[1;32mIn [97], line 3\u001b[0m in \u001b[1;35mgetDavky\u001b[0m\n    root = ET.fromstring(posledni_davka.text)\u001b[0m\n",
      "\u001b[0;36m  File \u001b[0;32m~/.conda/envs/volbycz/lib/python3.11/xml/etree/ElementTree.py:1338\u001b[0;36m in \u001b[0;35mXML\u001b[0;36m\n\u001b[0;31m    parser.feed(text)\u001b[0;36m\n",
      "\u001b[0;36m  File \u001b[0;32m<string>\u001b[0;36m\u001b[0m\n\u001b[0;31mParseError\u001b[0m\u001b[0;31m:\u001b[0m syntax error: line 1, column 49\n"
     ]
    }
   ],
   "source": [
    "def getDavky(davkydir, url):\n",
    "    posledni_davka = requests.get(url)\n",
    "    root = ET.fromstring(posledni_davka.text)\n",
    "    davka = root[0].attrib\n",
    "    davkyLimit = int(davka.get(\"PORADI_DAVKY\")) + 1\n",
    "    if not os.path.exists(davkydir):\n",
    "        os.mkdir(davkydir)\n",
    "    for i in range(1, davkyLimit):\n",
    "        response = requests.get(url, verify=sslverify)\n",
    "        time.sleep(1)\n",
    "        print(\"davka\", i, response.status_code, \"\\r\")\n",
    "        if i < 10:\n",
    "            davkaurl = os.path.join(davkydir, \"davka_0\"+str(i)+\".xml\")\n",
    "        else:\n",
    "            davkaurl = os.path.join(davkydir, \"davka_\"+str(i)+\".xml\")\n",
    "        with open(davkaurl, \"wb\") as file:\n",
    "            file.write(response.content)\n",
    "\n",
    "\n",
    "def getExtractZipDavky(volbadir, volbyDict):\n",
    "    for volba, response in volbyDict.items():\n",
    "        volba = os.path.join(volbadir, volba)\n",
    "        if not os.path.exists(volba):\n",
    "            os.mkdir(volba)\n",
    "        url = response.url\n",
    "        soup = BeautifulSoup(response.content, 'html.parser')\n",
    "        for a in soup.find_all('a'):\n",
    "            odkaz = a['href']\n",
    "            if '.zip' in odkaz:\n",
    "                continue  # docasne zablokovat download zip\n",
    "                fileUrl = urljoin(url, odkaz)\n",
    "                dataType = fileUrl.split('/')[4]\n",
    "                path = os.path.join(volba,dataType)\n",
    "                r = requests.get(fileUrl)\n",
    "                if r.status_code == 200:\n",
    "                    z = zipfile.ZipFile(BytesIO(r.content))\n",
    "                    z.extractall(path)\n",
    "                time.sleep(1)\n",
    "            elif 'davka=' in odkaz:\n",
    "                print(\"odkaz\", odkaz)\n",
    "                fileUrl = urljoin(url, odkaz)\n",
    "                print(\"fileUrl\", fileUrl)\n",
    "                dataType = fileUrl.split('/')[4]\n",
    "                path = os.path.join(volba,dataType)\n",
    "                if 'se' in volba or 'prez' in volba:\n",
    "                    for i in range(1,3):\n",
    "                        if 'kola=' in fileUrl:\n",
    "                            fileUrl = fileUrl.replace(\"kola=\",\"kola=\"+str(i))\n",
    "                        else:\n",
    "                            fileUrl = fileUrl+\"&kola=\"+str(i)\n",
    "                        getDavky(path, fileUrl)\n",
    "                else:\n",
    "                    print(fileUrl)\n",
    "                    getDavky(path, fileUrl)\n",
    "            else:\n",
    "                continue\n",
    "        time.sleep(1)\n",
    "\n",
    "\n",
    "if not os.path.exists(datadir):\n",
    "    os.mkdir(datadir)\n",
    "\n",
    "getExtractZipDavky(datadir, volbySoupsDict)"
   ]
  },
  {
   "cell_type": "code",
   "execution_count": null,
   "id": "47d61708-242e-4024-8321-07aa52b5e484",
   "metadata": {},
   "outputs": [],
   "source": [
    "def getDavky(dataDir, volbyDict):\n",
    "    \n",
    "    def get_posledni_davka(urlDavky):\n",
    "    posledni_davka = requests.get(url_davky,verify=sslverify)\n",
    "    root = ET.fromstring(posledni_davka.text)\n",
    "    #for child in root:\n",
    "    #    print (child.tag,child.attrib)\n",
    "    davka = root[0].attrib\n",
    "    davky_pocet = int(davka.get(\"PORADI_DAVKY\")) + 1\n",
    "    return(davky_pocet)\n",
    "\n",
    "davky_pocet_kolo1 = get_posledni_davka(url_davky+\"&kolo=1\")\n",
    "davky_pocet_kolo2 = get_posledni_davka(url_davky+\"&kolo=2\")\n",
    "print(davky_pocet_kolo1,davky_pocet_kolo2)\n",
    "\n",
    "def get_davky(kolo,davky_pocet):\n",
    "    davkydir = os.path.join(volby,\"davky\"+kolo)\n",
    "    dir_exists = os.path.exists(davkydir)\n",
    "    if not dir_exists:\n",
    "        os.mkdir(davkydir)\n",
    "    for i in range(1,davky_pocet):\n",
    "        url=url_davky+str(i)+\"&kolo=\"+kolo\n",
    "        response=requests.get(url,verify=sslverify)\n",
    "        time.sleep(1)\n",
    "        print(\"davka\",i,response.status_code,\"\\r\")\n",
    "        if i<10:\n",
    "            davkaurl=os.path.join(davkydir,\"davka_0\"+str(i)+\".xml\")                                \n",
    "        else:\n",
    "            davkaurl=os.path.join(davkydir,\"davka_\"+str(i)+\".xml\")\n",
    "        with open(davkaurl,\"wb\") as file:\n",
    "            file.write(response.content)\n",
    "get_davky(\"1\",davky_pocet_kolo1)\n",
    "get_davky(\"2\",davky_pocet_kolo2)    "
   ]
  },
  {
   "cell_type": "code",
   "execution_count": null,
   "id": "6b640f0e-c007-4244-bc21-0337acfe27ab",
   "metadata": {},
   "outputs": [],
   "source": []
  },
  {
   "cell_type": "code",
   "execution_count": null,
   "id": "723037c4-c801-4282-9777-91e85d54cc61",
   "metadata": {},
   "outputs": [],
   "source": []
  },
  {
   "cell_type": "code",
   "execution_count": null,
   "id": "7755265a-46e7-4fd8-acb8-45ec8096f462",
   "metadata": {},
   "outputs": [],
   "source": []
  },
  {
   "cell_type": "code",
   "execution_count": null,
   "id": "b324d429-7f95-44c9-8f70-e3e729adb4a5",
   "metadata": {},
   "outputs": [],
   "source": []
  },
  {
   "cell_type": "code",
   "execution_count": null,
   "id": "04918837-e1c6-494d-9d01-bfca88e04e85",
   "metadata": {},
   "outputs": [],
   "source": []
  },
  {
   "cell_type": "code",
   "execution_count": null,
   "id": "5d37aa4c-2118-4644-8c91-889b1ae851a5",
   "metadata": {},
   "outputs": [],
   "source": []
  },
  {
   "cell_type": "code",
   "execution_count": null,
   "id": "f0110ee4-efba-458c-86e6-ec2a8ccf9227",
   "metadata": {},
   "outputs": [],
   "source": []
  },
  {
   "cell_type": "code",
   "execution_count": null,
   "id": "468f535f-fe18-4b59-9951-3803e4b3a2a6",
   "metadata": {},
   "outputs": [],
   "source": []
  },
  {
   "cell_type": "code",
   "execution_count": null,
   "id": "27617177-347b-4adb-8ae2-e75379a4a676",
   "metadata": {},
   "outputs": [],
   "source": []
  },
  {
   "cell_type": "code",
   "execution_count": null,
   "id": "aacd2430-3a08-463f-a895-66a0b4c909db",
   "metadata": {},
   "outputs": [],
   "source": []
  },
  {
   "cell_type": "code",
   "execution_count": null,
   "id": "9ac4d1dd-b55f-4b20-a82d-b44b65adfa17",
   "metadata": {},
   "outputs": [],
   "source": []
  },
  {
   "cell_type": "code",
   "execution_count": null,
   "id": "59ab2716-d274-45f5-9f03-3982e819b65c",
   "metadata": {},
   "outputs": [],
   "source": []
  },
  {
   "cell_type": "code",
   "execution_count": null,
   "id": "d170b5f9-9656-45a4-94d8-f695ccad53b1",
   "metadata": {},
   "outputs": [],
   "source": []
  },
  {
   "cell_type": "code",
   "execution_count": null,
   "id": "9f3ce9ba-586d-44d5-b6bc-c90480974113",
   "metadata": {},
   "outputs": [],
   "source": []
  },
  {
   "cell_type": "code",
   "execution_count": null,
   "id": "d0f4eef0-2643-4e69-ad7b-ee4f21c7b8f7",
   "metadata": {},
   "outputs": [],
   "source": []
  },
  {
   "cell_type": "code",
   "execution_count": null,
   "id": "6e6b7255-e0de-4944-8028-1a189b736415",
   "metadata": {},
   "outputs": [],
   "source": []
  },
  {
   "cell_type": "code",
   "execution_count": null,
   "id": "d1caedc5-67e9-4f00-bfaa-eae9689fc3d6",
   "metadata": {},
   "outputs": [],
   "source": []
  },
  {
   "cell_type": "code",
   "execution_count": null,
   "id": "25df0f17-85b2-4aca-8a85-11d3b930c343",
   "metadata": {},
   "outputs": [],
   "source": []
  },
  {
   "cell_type": "code",
   "execution_count": null,
   "id": "611082e8-8369-488e-aae9-b218b50552b0",
   "metadata": {},
   "outputs": [],
   "source": []
  },
  {
   "cell_type": "code",
   "execution_count": null,
   "id": "837e6376-dcc4-4689-a52e-bb3b688fa129",
   "metadata": {},
   "outputs": [],
   "source": []
  },
  {
   "cell_type": "code",
   "execution_count": null,
   "id": "85c32fa5-6a84-4524-a5aa-eece3c358c09",
   "metadata": {},
   "outputs": [],
   "source": []
  },
  {
   "cell_type": "code",
   "execution_count": null,
   "id": "e19825ca-ed35-4373-8178-6b9e36da7644",
   "metadata": {},
   "outputs": [],
   "source": [
    "volby = \"prez2018\"\n",
    "ciselniky = \"PREZ2018ciselniky20171215_csv.zip\"\n",
    "registry = \"PREZ2018reg20180127_csv.zip\"\n",
    "okrskovaData = \"PREZ2018data20180127_csv_kolo2.zip\"\n",
    "urlOpendata = urlRoot+volby+\"/\"+volby+\"_\"+opendatafileHome\n",
    "urlDavky = urlRootDavky+volby+\"/\"+davky\n",
    "urlCiselniky = urlRoot+volby+\"/\"+ciselniky\n",
    "urlRegistry = urlRoot+volby+\"/\"+registry\n",
    "urlOkrskovaData = urlRoot+volby+\"/\"+okrskovaData\n",
    "davky = True\n",
    "kola = True"
   ]
  },
  {
   "cell_type": "code",
   "execution_count": null,
   "id": "5af5c665-bc2e-4c83-92d0-bc09a5716ce4",
   "metadata": {},
   "outputs": [],
   "source": [
    "if not os.path.exists(volby):\n",
    "    os.mkdir(volby)"
   ]
  },
  {
   "cell_type": "code",
   "execution_count": null,
   "id": "dd34f304-1d77-4a32-acda-a467b40f9177",
   "metadata": {},
   "outputs": [],
   "source": [
    "def get_posledni_davka(urlDavky):\n",
    "    posledni_davka = requests.get(url_davky,verify=sslverify)\n",
    "    root = ET.fromstring(posledni_davka.text)\n",
    "    #for child in root:\n",
    "    #    print (child.tag,child.attrib)\n",
    "    davka = root[0].attrib\n",
    "    davky_pocet = int(davka.get(\"PORADI_DAVKY\")) + 1\n",
    "    return(davky_pocet)"
   ]
  },
  {
   "cell_type": "code",
   "execution_count": null,
   "id": "5e276255-46b7-492f-9381-4dee5516b5c2",
   "metadata": {},
   "outputs": [],
   "source": [
    "davky_pocet_kolo1 = get_posledni_davka(url_davky+\"&kolo=1\")\n",
    "davky_pocet_kolo2 = get_posledni_davka(url_davky+\"&kolo=2\")\n",
    "print(davky_pocet_kolo1,davky_pocet_kolo2)"
   ]
  },
  {
   "cell_type": "code",
   "execution_count": null,
   "id": "b86fc0b1-b051-4cf4-b34e-0496c880a9b6",
   "metadata": {},
   "outputs": [],
   "source": [
    "def get_data_voleb (volby,davky,kola,ciselniky,registry,okrskovaData)"
   ]
  },
  {
   "cell_type": "code",
   "execution_count": null,
   "id": "8e97379a-853a-4d2f-9cfa-a64a61362ea4",
   "metadata": {},
   "outputs": [],
   "source": [
    "def get_davky(kolo,davky_pocet):\n",
    "    davkydir = os.path.join(volby,\"davky\"+kolo)\n",
    "    dir_exists = os.path.exists(davkydir)\n",
    "    if not dir_exists:\n",
    "        os.mkdir(davkydir)\n",
    "    for i in range(1,davky_pocet):\n",
    "        url=url_davky+str(i)+\"&kolo=\"+kolo\n",
    "        response=requests.get(url,verify=sslverify)\n",
    "        time.sleep(1)\n",
    "        print(\"davka\",i,response.status_code,\"\\r\")\n",
    "        if i<10:\n",
    "            davkaurl=os.path.join(davkydir,\"davka_0\"+str(i)+\".xml\")\n",
    "        else:\n",
    "            davkaurl=os.path.join(davkydir,\"davka_\"+str(i)+\".xml\")\n",
    "        with open(davkaurl,\"wb\") as file:\n",
    "            file.write(response.content)\n",
    "get_davky(\"1\",davky_pocet_kolo1)\n",
    "get_davky(\"2\",davky_pocet_kolo2) "
   ]
  },
  {
   "cell_type": "code",
   "execution_count": null,
   "id": "547c23a9-eb73-451f-9eec-9a54fcf28b42",
   "metadata": {},
   "outputs": [],
   "source": [
    "def get_cisregokr():\n",
    "    for url in [url_ciselniky,url_registry,url_okrskova_data]:\n",
    "        response = requests.get(url,verify=sslverify)\n",
    "        zipfile.ZipFile(BytesIO(response.content)).extractall(path=volby)\n",
    "get_cisregokr()"
   ]
  },
  {
   "cell_type": "code",
   "execution_count": null,
   "id": "8b29ae90-8865-4563-af33-c840af4047fa",
   "metadata": {},
   "outputs": [],
   "source": [
    "response = requests.get(url_ciselniky)"
   ]
  },
  {
   "cell_type": "code",
   "execution_count": null,
   "id": "fe1ef302-02ab-4b6d-b52b-f2a835e41158",
   "metadata": {},
   "outputs": [],
   "source": [
    "response.url.split(\"/\")[-1]"
   ]
  }
 ],
 "metadata": {
  "kernelspec": {
   "display_name": "volbycz:Python",
   "language": "python",
   "name": "conda-env-volbycz-py"
  },
  "language_info": {
   "codemirror_mode": {
    "name": "ipython",
    "version": 3
   },
   "file_extension": ".py",
   "mimetype": "text/x-python",
   "name": "python",
   "nbconvert_exporter": "python",
   "pygments_lexer": "ipython3",
   "version": "3.11.0"
  }
 },
 "nbformat": 4,
 "nbformat_minor": 5
}
