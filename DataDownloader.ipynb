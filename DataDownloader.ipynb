{
 "cells": [
  {
   "cell_type": "code",
   "execution_count": 29,
   "id": "32dfe155-1d41-4cb2-adcf-cb0d1b7d6abf",
   "metadata": {},
   "outputs": [],
   "source": [
    "import requests\n",
    "import zipfile\n",
    "import time\n",
    "import unicodedata\n",
    "from io import BytesIO\n",
    "from bs4 import BeautifulSoup"
   ]
  },
  {
   "cell_type": "code",
   "execution_count": 13,
   "id": "3318f609-fbb3-4393-9763-2b0f973cd92d",
   "metadata": {},
   "outputs": [],
   "source": [
    "# nastavit na False u serveru, ktere hlasi chybu ssl\n",
    "sslverify = True\n",
    "urlRoot = \"https://volby.cz/opendata/\"\n",
    "opendatafile = \"opendata.htm\"\n",
    "# davky=\"vysledky_okrsky?davka=\"\n",
    "# urlRootDavky = \"https://volby.cz/pls/\""
   ]
  },
  {
   "cell_type": "code",
   "execution_count": 3,
   "id": "966040b9-9649-4dfb-aa66-9968fe2186d5",
   "metadata": {
    "jupyter": {
     "source_hidden": true
    },
    "tags": []
   },
   "outputs": [],
   "source": [
    "# druhVoleb = [\"prez\", \"ps\", \"se\", \"ep\", \"kr\", \"kv\"]\n",
    "# rokyPrez = [2013, 2018]\n",
    "# rokyPs = [2006, 2010, 2013, 2017, 2021]\n",
    "# rokySe = [2008, 2010, 2011, 2012, 2014, 2016, 2017, 2018, 2019, 2020, 2022]\n",
    "# rokyKz = [2008, 2012, 2016, 2020]\n",
    "# rokyKv = [2006, 2010, 2014, 2018, 2022]\n",
    "# rokyEp = [2004, 2009, 2014, 2019]"
   ]
  },
  {
   "cell_type": "code",
   "execution_count": 4,
   "id": "64bc0807-7984-42fd-b3e9-39143a7cf140",
   "metadata": {},
   "outputs": [],
   "source": [
    "opendataUrl = urlRoot + opendatafile\n",
    "response = requests.get(opendataUrl)"
   ]
  },
  {
   "cell_type": "code",
   "execution_count": 51,
   "id": "366dface-af58-49f6-9a68-b247d3ba2c53",
   "metadata": {
    "tags": []
   },
   "outputs": [],
   "source": [
    "def getUrlsVolby(soup):\n",
    "    volbyList = []\n",
    "    for volby in soup.table.find_all(\"tr\"):\n",
    "        volbyData = volby.find(\"td\").text\n",
    "        volbyData = unicodedata.normalize('NFKD',volbyData)\n",
    "        #print(volbyData)\n",
    "        #print(volba)\n",
    "        volbyUrls = volby.find_all(\"a\")\n",
    "        for i in volbyUrls:\n",
    "            volba = []\n",
    "            volba.append(volbyData)\n",
    "            url = i.attrs[\"href\"]\n",
    "            # print(url)\n",
    "            volbyId, volbyFileurl = url.split(\"/\")\n",
    "            volba.append(volbyId)\n",
    "            volba.append(volbyFileurl)\n",
    "            volbyList.append(volba)\n",
    "            # print(volba)\n",
    "            # print()\n",
    "    return(volbyList)"
   ]
  },
  {
   "cell_type": "code",
   "execution_count": 53,
   "id": "073e1d1b-563b-49d6-9319-ee6134d22f32",
   "metadata": {
    "tags": []
   },
   "outputs": [],
   "source": [
    "if response.status_code == 200:\n",
    "    HomeSoup = BeautifulSoup(response.content, 'html.parser')\n",
    "    volbyUrls = getUrlsVolby(HomeSoup)\n",
    "else:\n",
    "    print(\"chyba zpracování\", opendataUrl)"
   ]
  },
  {
   "cell_type": "code",
   "execution_count": 84,
   "id": "8a843c4b-540d-4c2f-8f1e-4ac1c47b3cf1",
   "metadata": {
    "tags": []
   },
   "outputs": [
    {
     "name": "stdout",
     "output_type": "stream",
     "text": [
      "['Prezident republiky', 'prez2013', 'prez2013_opendata.htm']\n"
     ]
    }
   ],
   "source": [
    "print(volbyUrls[0])"
   ]
  },
  {
   "cell_type": "code",
   "execution_count": 97,
   "id": "dad69e6d-521d-488f-b711-ceb1eb05cf13",
   "metadata": {},
   "outputs": [],
   "source": [
    "def zpracujOdata(url):\n",
    "    odkazy = []\n",
    "    response = requests.get(url)\n",
    "    soup = BeautifulSoup(response.content, 'html.parser')\n",
    "    for i in soup.find_all(\"li\"):\n",
    "        for a in i.find_all(\"a\"):\n",
    "            odkaz = a.attrs[\"href\"]\n",
    "            if \"http\" not in odkaz:\n",
    "                if \"_opendata.htm\" in odkaz:\n",
    "                    odkaz = odkaz.replace(\"..\",\"/opendata\")\n",
    "                    odkaz = \"https://volby.cz\" + odkaz\n",
    "                    odkazy.append(odkaz)       \n",
    "    return(odkazy)\n",
    "\n",
    "volbaOpendataHome = []\n",
    "\n",
    "for i in volbyUrls:\n",
    "    volbaUrl = urlRoot + i[1] + \"/\" + i[2]\n",
    "    time.sleep(0.3)\n",
    "    if \"odata\" in volbaUrl or \"_seznam\" in volbaUrl:\n",
    "        odkazy = zpracujOdata(volbaUrl)\n",
    "        for odkaz in odkazy:\n",
    "            volbaOpendataHome.append(odkaz)\n",
    "    else:\n",
    "        volbaOpendataHome.append(volbaUrl)\n"
   ]
  },
  {
   "cell_type": "code",
   "execution_count": 98,
   "id": "9705e701-c758-4aae-8c80-b332ed89c385",
   "metadata": {},
   "outputs": [
    {
     "data": {
      "text/plain": [
       "['https://volby.cz/opendata/se2022/se2022_opendata.htm',\n",
       " 'https://volby.cz/opendata/se2020cerven/se2020cerven_opendata.htm',\n",
       " 'https://volby.cz/opendata/se2020/se2020_opendata.htm',\n",
       " 'https://volby.cz/opendata/se2019duben/se2019duben_opendata.htm',\n",
       " 'https://volby.cz/opendata/se2018leden/se2018leden_opendata.htm',\n",
       " 'https://volby.cz/opendata/se2018kveten/se2018kveten_opendata.htm',\n",
       " 'https://volby.cz/opendata/se2018/se2018_opendata.htm',\n",
       " 'https://volby.cz/opendata/se2017/se2017_opendata.htm',\n",
       " 'https://volby.cz/opendata/se2016/se2016_opendata.htm',\n",
       " 'https://volby.cz/opendata/se2014zari/se2014zari_opendata.htm',\n",
       " 'https://volby.cz/opendata/se2014leden/se2014leden_opendata.htm',\n",
       " 'https://volby.cz/opendata/se2014/se2014_opendata.htm',\n",
       " 'https://volby.cz/opendata/se2012/se2012_opendata.htm',\n",
       " 'https://volby.cz/opendata/se2011/se2011_opendata.htm',\n",
       " 'https://volby.cz/opendata/se2010/se2010_opendata.htm',\n",
       " 'https://volby.cz/opendata/se2008/se2008_opendata.htm',\n",
       " 'https://volby.cz/opendata/ps2021/ps2021_opendata.htm',\n",
       " 'https://volby.cz/opendata/ps2017nss/ps2017nss_opendata.htm',\n",
       " 'https://volby.cz/opendata/ps2017/ps2017_opendata.htm',\n",
       " 'https://volby.cz/opendata/ps2013/ps2013_opendata.htm',\n",
       " 'https://volby.cz/opendata/ps2010/ps2010_opendata.htm',\n",
       " 'https://volby.cz/opendata/ps2006/ps2006_opendata.htm',\n",
       " 'https://volby.cz/opendata/prez2018/prez2018_opendata.htm',\n",
       " 'https://volby.cz/opendata/prez2013/prez2013_opendata.htm',\n",
       " 'https://volby.cz/opendata/kz2020/kz2020_opendata.htm',\n",
       " 'https://volby.cz/opendata/kz2016/kz2016_opendata.htm',\n",
       " 'https://volby.cz/opendata/kz2012/kz2012_opendata.htm',\n",
       " 'https://volby.cz/opendata/kz2008/kz2008_opendata.htm',\n",
       " 'https://volby.cz/opendata/kv2022/kv2022_opendata.htm',\n",
       " 'https://volby.cz/opendata/kv2018/kv2018_opendata.htm',\n",
       " 'https://volby.cz/opendata/kv2014/kv2014_opendata.htm',\n",
       " 'https://volby.cz/opendata/kv2010/kv2010_opendata.htm',\n",
       " 'https://volby.cz/opendata/kv2006/kv2006_opendata.htm',\n",
       " 'https://volby.cz/opendata/ep2019/ep2019_opendata.htm',\n",
       " 'https://volby.cz/opendata/ep2014/ep2014_opendata.htm',\n",
       " 'https://volby.cz/opendata/ep2009/ep2009_opendata.htm',\n",
       " 'https://volby.cz/opendata/ep2004/ep2004_opendata.htm']"
      ]
     },
     "execution_count": 98,
     "metadata": {},
     "output_type": "execute_result"
    }
   ],
   "source": [
    "sorted(volbaOpendataHome,reverse=True)"
   ]
  },
  {
   "cell_type": "code",
   "execution_count": null,
   "id": "0a4481ca-78b3-4c2d-b48d-d460f6ae5411",
   "metadata": {},
   "outputs": [],
   "source": []
  },
  {
   "cell_type": "code",
   "execution_count": null,
   "id": "c8e3ae6e-28a4-40c6-b875-dc4954175e71",
   "metadata": {},
   "outputs": [],
   "source": []
  },
  {
   "cell_type": "code",
   "execution_count": null,
   "id": "8afb4718-6b90-4674-9f03-aac1a5636822",
   "metadata": {},
   "outputs": [],
   "source": []
  },
  {
   "cell_type": "code",
   "execution_count": null,
   "id": "e19825ca-ed35-4373-8178-6b9e36da7644",
   "metadata": {},
   "outputs": [],
   "source": [
    "volby = \"prez2018\"\n",
    "ciselniky = \"PREZ2018ciselniky20171215_csv.zip\"\n",
    "registry = \"PREZ2018reg20180127_csv.zip\"\n",
    "okrskovaData = \"PREZ2018data20180127_csv_kolo2.zip\"\n",
    "urlOpendata = urlRoot+volby+\"/\"+volby+\"_\"+opendatafileHome\n",
    "urlDavky = urlRootDavky+volby+\"/\"+davky\n",
    "urlCiselniky = urlRoot+volby+\"/\"+ciselniky\n",
    "urlRegistry = urlRoot+volby+\"/\"+registry\n",
    "urlOkrskovaData = urlRoot+volby+\"/\"+okrskovaData\n",
    "davky = True\n",
    "kola = True"
   ]
  },
  {
   "cell_type": "code",
   "execution_count": null,
   "id": "5af5c665-bc2e-4c83-92d0-bc09a5716ce4",
   "metadata": {},
   "outputs": [],
   "source": [
    "if not os.path.exists(volby):\n",
    "    os.mkdir(volby)"
   ]
  },
  {
   "cell_type": "code",
   "execution_count": null,
   "id": "dd34f304-1d77-4a32-acda-a467b40f9177",
   "metadata": {},
   "outputs": [],
   "source": [
    "def get_posledni_davka(urlDavky):\n",
    "    posledni_davka = requests.get(url_davky,verify=sslverify)\n",
    "    root = ET.fromstring(posledni_davka.text)\n",
    "    #for child in root:\n",
    "    #    print (child.tag,child.attrib)\n",
    "    davka = root[0].attrib\n",
    "    davky_pocet = int(davka.get(\"PORADI_DAVKY\")) + 1\n",
    "    return(davky_pocet)"
   ]
  },
  {
   "cell_type": "code",
   "execution_count": null,
   "id": "5e276255-46b7-492f-9381-4dee5516b5c2",
   "metadata": {},
   "outputs": [],
   "source": [
    "davky_pocet_kolo1 = get_posledni_davka(url_davky+\"&kolo=1\")\n",
    "davky_pocet_kolo2 = get_posledni_davka(url_davky+\"&kolo=2\")\n",
    "print(davky_pocet_kolo1,davky_pocet_kolo2)"
   ]
  },
  {
   "cell_type": "code",
   "execution_count": null,
   "id": "b86fc0b1-b051-4cf4-b34e-0496c880a9b6",
   "metadata": {},
   "outputs": [],
   "source": [
    "def get_data_voleb (volby,davky,kola,ciselniky,registry,okrskovaData)"
   ]
  },
  {
   "cell_type": "code",
   "execution_count": null,
   "id": "8e97379a-853a-4d2f-9cfa-a64a61362ea4",
   "metadata": {},
   "outputs": [],
   "source": [
    "def get_davky(kolo,davky_pocet):\n",
    "    davkydir = os.path.join(volby,\"davky\"+kolo)\n",
    "    dir_exists = os.path.exists(davkydir)\n",
    "    if not dir_exists:\n",
    "        os.mkdir(davkydir)\n",
    "    for i in range(1,davky_pocet):\n",
    "        url=url_davky+str(i)+\"&kolo=\"+kolo\n",
    "        response=requests.get(url,verify=sslverify)\n",
    "        time.sleep(1)\n",
    "        print(\"davka\",i,response.status_code,\"\\r\")\n",
    "        if i<10:\n",
    "            davkaurl=os.path.join(davkydir,\"davka_0\"+str(i)+\".xml\")\n",
    "        else:\n",
    "            davkaurl=os.path.join(davkydir,\"davka_\"+str(i)+\".xml\")\n",
    "        with open(davkaurl,\"wb\") as file:\n",
    "            file.write(response.content)\n",
    "get_davky(\"1\",davky_pocet_kolo1)\n",
    "get_davky(\"2\",davky_pocet_kolo2) "
   ]
  },
  {
   "cell_type": "code",
   "execution_count": null,
   "id": "547c23a9-eb73-451f-9eec-9a54fcf28b42",
   "metadata": {},
   "outputs": [],
   "source": [
    "def get_cisregokr():\n",
    "    for url in [url_ciselniky,url_registry,url_okrskova_data]:\n",
    "        response = requests.get(url,verify=sslverify)\n",
    "        zipfile.ZipFile(BytesIO(response.content)).extractall(path=volby)\n",
    "get_cisregokr()"
   ]
  },
  {
   "cell_type": "code",
   "execution_count": null,
   "id": "8b29ae90-8865-4563-af33-c840af4047fa",
   "metadata": {},
   "outputs": [],
   "source": [
    "response = requests.get(url_ciselniky)"
   ]
  },
  {
   "cell_type": "code",
   "execution_count": null,
   "id": "fe1ef302-02ab-4b6d-b52b-f2a835e41158",
   "metadata": {},
   "outputs": [],
   "source": [
    "response.url.split(\"/\")[-1]"
   ]
  },
  {
   "cell_type": "code",
   "execution_count": null,
   "id": "527ceec5-a384-483f-9618-13eb6d550282",
   "metadata": {},
   "outputs": [],
   "source": []
  }
 ],
 "metadata": {
  "kernelspec": {
   "display_name": "volbycz:Python",
   "language": "python",
   "name": "conda-env-volbycz-py"
  },
  "language_info": {
   "codemirror_mode": {
    "name": "ipython",
    "version": 3
   },
   "file_extension": ".py",
   "mimetype": "text/x-python",
   "name": "python",
   "nbconvert_exporter": "python",
   "pygments_lexer": "ipython3",
   "version": "3.11.0"
  }
 },
 "nbformat": 4,
 "nbformat_minor": 5
}
