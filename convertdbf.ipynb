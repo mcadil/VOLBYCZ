{
 "cells": [
  {
   "cell_type": "code",
   "execution_count": 9,
   "id": "99f25b02-52ce-451b-b670-459db781ee61",
   "metadata": {},
   "outputs": [],
   "source": [
    "import simpledbf"
   ]
  },
  {
   "cell_type": "code",
   "execution_count": null,
   "id": "3fdc6dd5-f36b-416d-b104-c72066e294bd",
   "metadata": {},
   "outputs": [],
   "source": []
  },
  {
   "cell_type": "code",
   "execution_count": 10,
   "id": "fc7373eb-2807-4d40-a2b9-3f07eac3b2d4",
   "metadata": {},
   "outputs": [],
   "source": [
    "dbf = simpledbf.Dbf5(\"data_test/ps2006/PS2006_data_dbf/PST4p.dbf\")"
   ]
  },
  {
   "cell_type": "code",
   "execution_count": 11,
   "id": "eaca9177-4f79-426f-bedb-71d28e7831b5",
   "metadata": {},
   "outputs": [],
   "source": [
    "dbf.to_csv(\"data_test/dbf2csvtest.csv\")"
   ]
  },
  {
   "cell_type": "code",
   "execution_count": null,
   "id": "33b4eef1-4e1d-463a-85c9-d501335f18c9",
   "metadata": {},
   "outputs": [],
   "source": []
  }
 ],
 "metadata": {
  "kernelspec": {
   "display_name": "volby:Python",
   "language": "python",
   "name": "conda-env-volby-py"
  },
  "language_info": {
   "codemirror_mode": {
    "name": "ipython",
    "version": 3
   },
   "file_extension": ".py",
   "mimetype": "text/x-python",
   "name": "python",
   "nbconvert_exporter": "python",
   "pygments_lexer": "ipython3",
   "version": "3.10.6"
  }
 },
 "nbformat": 4,
 "nbformat_minor": 5
}
