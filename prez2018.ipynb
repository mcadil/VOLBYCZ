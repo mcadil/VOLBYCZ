{
 "cells": [
  {
   "cell_type": "code",
   "execution_count": null,
   "id": "8545f489-b7b4-46b7-acf5-e47abf248921",
   "metadata": {},
   "outputs": [],
   "source": [
    "!pip install duckdb-engine"
   ]
  },
  {
   "cell_type": "code",
   "execution_count": 4,
   "id": "c9ceb0f1-7d4b-4cef-84f8-9c5062f1e0f0",
   "metadata": {},
   "outputs": [],
   "source": [
    "import os\n",
    "\n",
    "#git_author_email = os.environ[\"GIT_AUTHOR_EMAIL\"]\n",
    "#git_author_name = os.environ[\"GIT_AUTHOR_NAME\"]\n",
    "#git_committer_email = os.environ[\"GIT_COMMITTER_EMAIL\"]\n",
    "#git_committer_name = os.environ[\"GIT_COMMITTER_NAME\"]\n",
    "#git_password = os.environ[\"GIT_PASSWORD\"]\n",
    "#git_username = os.environ[\"GIT_USERNAME\"]\n"
   ]
  },
  {
   "cell_type": "code",
   "execution_count": 5,
   "id": "fa4a253f-f9de-4e83-bfa9-16c4e3a246b5",
   "metadata": {},
   "outputs": [],
   "source": [
    "import requests\n",
    "import zipfile\n",
    "import xml.etree.ElementTree as ET\n",
    "import pandas as pd\n",
    "import matplotlib.pyplot as plt\n",
    "import json\n",
    "import duckdb\n",
    "import sqlalchemy\n",
    "import time\n",
    "from io import BytesIO"
   ]
  },
  {
   "cell_type": "code",
   "execution_count": 24,
   "id": "86ffebec-0a67-48c0-88ca-39174f61bfa2",
   "metadata": {},
   "outputs": [],
   "source": [
    "sslverify=True #nastavit na False u serveru, ktere hlasi chybu ssl\n",
    "\n",
    "urlRoot = \"https://volby.cz/opendata/\"\n",
    "urlRootDavky = \"https://volby.cz/pls/\"\n",
    "opendatafileHome = \"opendata.htm\"\n",
    "davky=\"vysledky_okrsky?davka=\""
   ]
  },
  {
   "cell_type": "markdown",
   "id": "02cfda9e-fe23-4ef5-89ec-de98bf27e13e",
   "metadata": {},
   "source": [
    "## Prezident 2018"
   ]
  },
  {
   "cell_type": "code",
   "execution_count": null,
   "id": "586b9766-d164-4a63-bb47-80559e8035c5",
   "metadata": {},
   "outputs": [],
   "source": [
    "volby = \"prez2018\"\n",
    "ciselniky = \"PREZ2018ciselniky20171215_csv.zip\"\n",
    "registry = \"PREZ2018reg20180127_csv.zip\"\n",
    "okrskovaData = \"PREZ2018data20180127_csv_kolo2.zip\"\n",
    "urlOpendata = urlRoot+volby+\"/\"+volby+\"_\"+opendatafileHome\n",
    "urlDavky = urlRootDavky+volby+\"/\"+davky\n",
    "urlCiselniky = urlRoot+volby+\"/\"+ciselniky\n",
    "urlRegistry = urlRoot+volby+\"/\"+registry\n",
    "urlOkrskovaData = urlRoot+volby+\"/\"+okrskovaData\n",
    "davky=True\n",
    "kola=True"
   ]
  },
  {
   "cell_type": "code",
   "execution_count": 25,
   "id": "450ad506-456b-4710-abe9-938925ec89e7",
   "metadata": {},
   "outputs": [],
   "source": [
    "if not os.path.exists(volby):\n",
    "    os.mkdir(volby)"
   ]
  },
  {
   "cell_type": "code",
   "execution_count": 26,
   "id": "36432059-826e-41c0-8a05-3e15061589c1",
   "metadata": {},
   "outputs": [],
   "source": [
    "def get_posledni_davka(urlDavky):\n",
    "    posledni_davka = requests.get(url_davky,verify=sslverify)\n",
    "    root = ET.fromstring(posledni_davka.text)\n",
    "    #for child in root:\n",
    "    #    print (child.tag,child.attrib)\n",
    "    davka = root[0].attrib\n",
    "    davky_pocet = int(davka.get(\"PORADI_DAVKY\")) + 1\n",
    "    return(davky_pocet)"
   ]
  },
  {
   "cell_type": "code",
   "execution_count": 27,
   "id": "987f69e0-f0ee-4151-8762-c49014805879",
   "metadata": {},
   "outputs": [
    {
     "name": "stdout",
     "output_type": "stream",
     "text": [
      "54 39\n"
     ]
    }
   ],
   "source": [
    "davky_pocet_kolo1 = get_posledni_davka(url_davky+\"&kolo=1\")\n",
    "davky_pocet_kolo2 = get_posledni_davka(url_davky+\"&kolo=2\")\n",
    "print(davky_pocet_kolo1,davky_pocet_kolo2)"
   ]
  },
  {
   "cell_type": "code",
   "execution_count": null,
   "id": "f9306b68-bda1-4ee4-8e47-9b65315ece90",
   "metadata": {},
   "outputs": [],
   "source": [
    "def get_data_voleb (volby,davky,kola,ciselniky,registry,okrskovaData)"
   ]
  },
  {
   "cell_type": "code",
   "execution_count": 28,
   "id": "23afd531-618a-4be0-aca9-3cc33c68aeaf",
   "metadata": {},
   "outputs": [],
   "source": [
    "def get_davky(kolo,davky_pocet):\n",
    "    davkydir = os.path.join(volby,\"davky\"+kolo)\n",
    "    dir_exists = os.path.exists(davkydir)\n",
    "    if not dir_exists:\n",
    "        os.mkdir(davkydir)\n",
    "    for i in range(1,davky_pocet):\n",
    "        url=url_davky+str(i)+\"&kolo=\"+kolo\n",
    "        response=requests.get(url,verify=sslverify)\n",
    "        time.sleep(1)\n",
    "        print(\"davka\",i,response.status_code,\"\\r\")\n",
    "        if i<10:\n",
    "            davkaurl=os.path.join(davkydir,\"davka_0\"+str(i)+\".xml\")                                \n",
    "        else:\n",
    "            davkaurl=os.path.join(davkydir,\"davka_\"+str(i)+\".xml\")\n",
    "        with open(davkaurl,\"wb\") as file:\n",
    "            file.write(response.content)\n",
    "get_davky(\"1\",davky_pocet_kolo1)\n",
    "get_davky(\"2\",davky_pocet_kolo2)          "
   ]
  },
  {
   "cell_type": "code",
   "execution_count": null,
   "id": "3383ebdb-c14c-4cdc-a67f-506edfc385dc",
   "metadata": {},
   "outputs": [],
   "source": [
    "def get_cisregokr():\n",
    "    for url in [url_ciselniky,url_registry,url_okrskova_data]:\n",
    "        response = requests.get(url,verify=sslverify)\n",
    "        zipfile.ZipFile(BytesIO(response.content)).extractall(path=volby)\n",
    "get_cisregokr()"
   ]
  },
  {
   "cell_type": "code",
   "execution_count": 29,
   "id": "8b902055-a83e-44a8-827f-d8de27f46101",
   "metadata": {},
   "outputs": [],
   "source": [
    "response = requests.get(url_ciselniky)\n"
   ]
  },
  {
   "cell_type": "code",
   "execution_count": null,
   "id": "c5ce09f7-0a08-4c82-b27f-cee65c39349b",
   "metadata": {},
   "outputs": [],
   "source": []
  },
  {
   "cell_type": "code",
   "execution_count": null,
   "id": "6baf92a6-21c8-406c-9145-517c8f10a0a0",
   "metadata": {},
   "outputs": [],
   "source": [
    "response.url.split(\"/\")[-1]"
   ]
  },
  {
   "cell_type": "code",
   "execution_count": null,
   "id": "7af30311-9358-4634-aba8-164723974231",
   "metadata": {},
   "outputs": [],
   "source": []
  },
  {
   "cell_type": "code",
   "execution_count": null,
   "id": "3cb0cb1f-4663-42d0-b7d6-5b17c9e90f93",
   "metadata": {},
   "outputs": [],
   "source": [
    "def zpracuj_davku(davkafile): #zpracování xml souboru dávky, vrací dict dávky, volebních dat okrsků, výsledků hlasování okrsků\n",
    "    davka_list = []\n",
    "    davky_list = []\n",
    "    okrsek_list = []\n",
    "    okrsky_list = []\n",
    "    hlasy_list = []\n",
    "\n",
    "    it = ET.iterparse(davkafile)\n",
    "    for _, el in it:\n",
    "        el.tag = el.tag.split('}', 1)[1]  # strip all namespaces\n",
    "    root = it.root\n",
    "    cas = list(root.items()[1])\n",
    "    davka_list.append(cas)\n",
    "    for element in root:\n",
    "        if element.tag == \"DAVKA\":\n",
    "            for davka_attr in element.items():\n",
    "                davka_list.append(list(davka_attr))\n",
    "            davky_list.append(dict(davka_list))\n",
    "        elif element.tag == \"OKRSEK\":\n",
    "            okrsek_dict = {}\n",
    "            for okrsek_attr in element.items():\n",
    "                okrsek_list.append(list(okrsek_attr))\n",
    "                okrsek_dict.update(dict(okrsek_list))\n",
    "            for okrsek_data in element:\n",
    "                #print(okrsek_data.keys())\n",
    "                if(okrsek_data.tag) == \"UCAST_OKRSEK\":\n",
    "                    okrsek_dict.update(okrsek_data.attrib)\n",
    "                else:\n",
    "                    cis_obec=okrsek_dict[\"CIS_OBEC\"]\n",
    "                    cis_okrsek=okrsek_dict[\"CIS_OKRSEK\"]\n",
    "                    okrsek_hlasy=[]\n",
    "                    for strana in okrsek_data.items():\n",
    "                       okrsek_hlasy.append(strana[1])\n",
    "                    hlasy_list.append([cis_obec,cis_okrsek,okrsek_hlasy[0],okrsek_hlasy[1]])\n",
    "            okrsky_list.append(okrsek_dict)\n",
    "    davka_df = pd.DataFrame(davky_list,index=[\"PORADI_DAVKY\"])\n",
    "    davka_okrsky_df = pd.DataFrame(okrsky_list)\n",
    "    davka_hlasy_df = pd.DataFrame(hlasy_list,dtype='uint32',columns=[\"CIS_OBEC\",\"CIS_OKRSEK\",\"STRANA\",\"HLASY\"])\n",
    "\n",
    "    return(davka_df,davka_okrsky_df,davka_hlasy_df)\n"
   ]
  },
  {
   "cell_type": "code",
   "execution_count": null,
   "id": "5e5d4d11-98a7-4266-830f-f451bf355302",
   "metadata": {},
   "outputs": [],
   "source": [
    " \n",
    "davky_dir = \"davky\"\n",
    "davky = os.listdir(davky_dir)\n",
    "davky.sort()\n",
    "i=1\n",
    "for davka_file in davky:\n",
    "    if davka_file.endswith(\"xml\"):\n",
    "        xmldavka = os.path.join(davky_dir,davka_file)\n",
    "        print(davka_file\n",
    "              ,end='\\r'\n",
    "              )\n",
    "        davka_df,okrsek_df,hlasy_davka_df = zpracuj_davku(xmldavka)\n",
    "        if i == 1:\n",
    "            davky_df = davka_df.astype({\"DATUM_CAS_GENEROVANI\":\"datetime64\"})\n",
    "            #.astype()\n",
    "            davky_okrsky_df = okrsek_df.astype({\"DATUM_CAS_ZPRAC\":\"datetime64\"})\n",
    "            davky_hlasy_df = hlasy_davka_df\n",
    "        else:\n",
    "            davky_df = pd.concat([davky_df,davka_df]).astype({\"DATUM_CAS_GENEROVANI\":\"datetime64\"\n",
    "            ,\"PORADI_DAVKY\":\"uint8\",\"OKRSKY_DAVKA\":\"uint16\",\"OKRSKY_CELKEM\":\"uint16\",\"OKRSKY_ZPRAC\":\"uint16\"})\n",
    "            davky_okrsky_df = pd.concat([davky_okrsky_df,okrsek_df]).astype({\"DATUM_CAS_ZPRAC\":\"datetime64\",\"CIS_OBEC\":\"uint32\"\n",
    "            ,\"CIS_OKRSEK\":\"uint32\",\"PORADI_ZPRAC\":\"uint16\",\"OPAKOVANE\":\"bool\",\"ZAPSANI_VOLICI\":\"uint32\"\n",
    "            ,\"VYDANE_OBALKY\":\"uint32\",\"ODEVZDANE_OBALKY\":\"uint32\",\"PLATNE_HLASY\":\"uint32\"})\n",
    "            davky_hlasy_df = pd.concat([davky_hlasy_df,hlasy_davka_df]).astype(\"uint32\")\n",
    "            \n",
    "        i=i+1\n",
    "    \n"
   ]
  },
  {
   "cell_type": "code",
   "execution_count": null,
   "id": "10505c41-e05e-4f5c-839c-06dc11b26774",
   "metadata": {},
   "outputs": [],
   "source": [
    "\n",
    "\n",
    "# connect to an in-memory database\n",
    "volby_davky = duckdb.connect()\n",
    "\n",
    "# create the tables from the DataFrames\n",
    "volby_davky.execute(\"CREATE TABLE davky AS SELECT * FROM davky_df\")\n",
    "volby_davky.execute(\"CREATE TABLE davky_okrsky AS SELECT * FROM davky_okrsky_df\")\n",
    "volby_davky.execute(\"CREATE TABLE davky_hlasy AS SELECT * FROM davky_hlasy_df\")\n",
    "\n",
    "# insert into the table \"my_table\" from the DataFrame \"my_df\"\n",
    "#con.execute(\"INSERT INTO my_table SELECT * FROM my_df\")\n",
    "\n",
    "volby_davky.execute(\"DESCRIBE TABLE davky_hlasy\").fetchall()\n",
    "\n",
    "volby_davky.execute(\"SHOW TABLES\").fetchall()\n",
    "\n",
    "CSV_DIR = \"csv_od\"\n",
    "csv_json_files = os.listdir(CSV_DIR)\n",
    "csv_json_files.sort()\n",
    "for file in csv_json_files:\n",
    "    data,filetype = file.split(\".\")\n",
    "    if file.endswith(\".json\"):\n",
    "        df_name = data + \"_df\"\n",
    "        with open(os.path.join(CSV_DIR,file), \"r\") as json_file:\n",
    "            #df_name = pd.read_json(json_file)\n",
    "            print(\"soubor:\",file)\n",
    "            json_data = json.load(json_file)\n",
    "            for json_items in json_data.items():\n",
    "                print(json_items)\n",
    "            print()\n",
    "\n",
    "            #s())\n",
    "            #print(json_data.values())"
   ]
  },
  {
   "cell_type": "code",
   "execution_count": null,
   "id": "672b773b-ea6a-4d7e-b67d-26a55ba93480",
   "metadata": {},
   "outputs": [],
   "source": [
    "#test\n",
    "cns_json = json.load(open('csv_od/cns.json'))\n",
    "description = cns_json[\"dc:description\"]\n",
    "tableschema=cns_json[\"tableSchema\"]\n",
    "print(tableschema)\n",
    "#print(tableschema[\"columns\"])\n",
    "\n",
    "cns_json_df = pd.DataFrame(tableschema[\"columns\"])\n",
    "cns_json_df"
   ]
  }
 ],
 "metadata": {
  "colab": {
   "name": "Welcome to DataCamp Workspaces.ipynb",
   "provenance": []
  },
  "kernelspec": {
   "display_name": "default:Python",
   "language": "python",
   "name": "conda-env-default-py"
  },
  "language_info": {
   "codemirror_mode": {
    "name": "ipython",
    "version": 3
   },
   "file_extension": ".py",
   "mimetype": "text/x-python",
   "name": "python",
   "nbconvert_exporter": "python",
   "pygments_lexer": "ipython3",
   "version": "3.9.13"
  }
 },
 "nbformat": 4,
 "nbformat_minor": 5
}
